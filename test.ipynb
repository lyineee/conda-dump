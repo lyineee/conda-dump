{
 "cells": [
  {
   "cell_type": "code",
   "execution_count": 13,
   "metadata": {},
   "outputs": [],
   "source": [
    "from collections.abc import Iterable\n",
    "class Test:\n",
    "    def __init__(self, v, li = []) -> None:\n",
    "        self._val = v\n",
    "        self._list = li\n",
    "\n",
    "    def append(self, v):\n",
    "        self._list.append(v)\n",
    "\n",
    "    @property\n",
    "    def val(self):\n",
    "        return self._val \n",
    "\n",
    "    def "
   ]
  },
  {
   "cell_type": "code",
   "execution_count": 41,
   "metadata": {},
   "outputs": [
    {
     "data": {
      "text/plain": [
       "<Version('1.2.3')>"
      ]
     },
     "execution_count": 41,
     "metadata": {},
     "output_type": "execute_result"
    }
   ],
   "source": [
    "\n",
    "from packaging import version\n",
    "from packaging.version import Version\n",
    "version.parse('.1.0')\n",
    "# Version('0.0.1') > version.LegacyVersion('>0.0.2')\n",
    "version.Version('1.2.3')\n"
   ]
  },
  {
   "cell_type": "code",
   "execution_count": null,
   "metadata": {},
   "outputs": [],
   "source": []
  }
 ],
 "metadata": {
  "kernelspec": {
   "display_name": "Python 3.8.10 64-bit",
   "language": "python",
   "name": "python3"
  },
  "language_info": {
   "codemirror_mode": {
    "name": "ipython",
    "version": 3
   },
   "file_extension": ".py",
   "mimetype": "text/x-python",
   "name": "python",
   "nbconvert_exporter": "python",
   "pygments_lexer": "ipython3",
   "version": "3.8.10"
  },
  "orig_nbformat": 4,
  "vscode": {
   "interpreter": {
    "hash": "ff6cd14b6c5ca738388aa75b59ab091ba2851109f29d9f25ffcf60c10287d179"
   }
  }
 },
 "nbformat": 4,
 "nbformat_minor": 2
}
