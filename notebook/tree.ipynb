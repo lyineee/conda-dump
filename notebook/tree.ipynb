{
 "cells": [
  {
   "cell_type": "code",
   "execution_count": 2,
   "id": "e56577c9-fe49-452d-9f7c-d493fbfccaf3",
   "metadata": {},
   "outputs": [
    {
     "name": "stdout",
     "output_type": "stream",
     "text": [
      "|__1\n",
      "      |__3\n",
      "      |__2\n",
      "      |      |__5\n",
      "      |      |__6\n",
      "      |            |__7\n",
      "      |__4\n"
     ]
    }
   ],
   "source": [
    "class Tree(list):\n",
    "    def __init__(self, value, children=[]) -> None:\n",
    "        self._val = value\n",
    "        return super().__init__(children)\n",
    "\n",
    "    @property\n",
    "    def val(self):\n",
    "        return self._val\n",
    "\n",
    "    def append(self, *items):\n",
    "        for item in items:\n",
    "            if not isinstance(item, type(self)):\n",
    "                raise TypeError(f'Require type {type(self)} but get type {type(item)}')\n",
    "            super().append(item)\n",
    "\n",
    "    def search(self, item):\n",
    "        for i in self:\n",
    "            if i.val == item:\n",
    "                return i\n",
    "        return False\n",
    "    def print_struct(self, first=True, indent = \"\"):\n",
    "        if first:\n",
    "            print(indent + \"|__\" + f'{self._val}')\n",
    "        else:\n",
    "            print(indent + \"__\" +f'{self._val}')\n",
    "        for index, node in enumerate(super().__iter__()):\n",
    "            if index + 1 == len(self):\n",
    "                node.print_struct(first=True, indent=indent+\"      \")\n",
    "                continue\n",
    "            node.print_struct(first=False, indent=indent+\"      |\")\n",
    "\n",
    "    def __iter__(self):\n",
    "        return self.iter()\n",
    "\n",
    "    def iter(self):\n",
    "        for i in super().__iter__():\n",
    "            yield from i.__iter__()\n",
    "        yield self\n",
    "\n",
    "    def __str__(self) -> str:\n",
    "        re = f'{self._val}:['\n",
    "        for i in super().__iter__():\n",
    "            re += str(i)\n",
    "        re += ']'\n",
    "        return re\n",
    "\n",
    "\n",
    "if __name__ == \"__main__\":\n",
    "    a = Tree(1)\n",
    "    a.append(Tree(3))\n",
    "    b = Tree(2)\n",
    "    b.append(Tree(5))\n",
    "    c = Tree(6)\n",
    "    c.append(Tree(7))\n",
    "    b.append(c)\n",
    "    a.append(b)\n",
    "    a.append(Tree(4))\n",
    "    a.print_struct()\n"
   ]
  }
 ],
 "metadata": {
  "kernelspec": {
   "display_name": "Python 3 (ipykernel)",
   "language": "python",
   "name": "python3"
  },
  "language_info": {
   "codemirror_mode": {
    "name": "ipython",
    "version": 3
   },
   "file_extension": ".py",
   "mimetype": "text/x-python",
   "name": "python",
   "nbconvert_exporter": "python",
   "pygments_lexer": "ipython3",
   "version": "3.10.6"
  }
 },
 "nbformat": 4,
 "nbformat_minor": 5
}
